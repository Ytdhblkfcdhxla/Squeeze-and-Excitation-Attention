{
 "cells": [
  {
   "cell_type": "code",
   "execution_count": null,
   "id": "f561ba41",
   "metadata": {
    "scrolled": true
   },
   "outputs": [],
   "source": [
    "import os\n",
    "import cv2\n",
    "import numpy as np\n",
    "import nibabel as nib\n",
    "import time\n",
    "\n",
    "scale_factor = 4\n",
    "input_dir = r\"\"\n",
    "output_dir = r\"\"\n",
    "\n",
    "for file_name in os.listdir(input_dir):\n",
    "    if file_name.endswith(\".nii.gz\"):\n",
    "        file_path = os.path.join(input_dir, file_name)\n",
    "        print(\"Processing:\", file_path)\n",
    "        input_data = nib.load(file_path)\n",
    "        input_img = input_data.get_fdata()\n",
    "        layer_thickness = input_data.header.get_zooms()[2]\n",
    "        spacing = input_data.header.get_zooms()[:2]\n",
    "        \n",
    "        upsampled_layers = []\n",
    "        for i in range(input_img.shape[2]):\n",
    "            input_layer = input_img[:, :, i]\n",
    "            input_layer = cv2.normalize(input_layer, None, 0, 255, cv2.NORM_MINMAX, cv2.CV_8U)\n",
    "            new_shape = (input_layer.shape[1] * scale_factor, input_layer.shape[0] * scale_factor)\n",
    "            upsampled_layer = cv2.resize(input_layer, new_shape, interpolation=cv2.INTER_LINEAR)\n",
    "            upsampled_layers.append(upsampled_layer)\n",
    "        upsampled_img = np.stack(upsampled_layers, axis=1)\n",
    "        output_data = nib.Nifti1Image(upsampled_img, input_data.affine, input_data.header)\n",
    "        output_data.header.set_zooms((spacing[0]/scale_factor, spacing[1]/scale_factor, layer_thickness))\n",
    "        output_name = file_name.replace(\".nii.gz\", \"\")\n",
    "        output_path = os.path.join(output_dir, output_name)\n",
    "        nib.save(output_data, output_path)"
   ]
  },
  {
   "cell_type": "code",
   "execution_count": null,
   "id": "694f41bd",
   "metadata": {},
   "outputs": [],
   "source": []
  }
 ],
 "metadata": {
  "kernelspec": {
   "display_name": "Python 3 (ipykernel)",
   "language": "python",
   "name": "python3"
  },
  "language_info": {
   "codemirror_mode": {
    "name": "ipython",
    "version": 3
   },
   "file_extension": ".py",
   "mimetype": "text/x-python",
   "name": "python",
   "nbconvert_exporter": "python",
   "pygments_lexer": "ipython3",
   "version": "3.10.9"
  }
 },
 "nbformat": 4,
 "nbformat_minor": 5
}
