{
 "cells": [
  {
   "cell_type": "code",
   "execution_count": null,
   "id": "c5ad7ac4",
   "metadata": {},
   "outputs": [],
   "source": [
    "import os\n",
    "import nibabel as nib\n",
    "import numpy as np\n",
    "import matplotlib.pyplot as plt\n",
    "\n",
    "dir_path = r''\n",
    "file_list = [os.path.join(dir_path, f) for f in os.listdir(dir_path) if f.endswith('.nii.gz')]\n",
    "for file_path in file_list:\n",
    "    img = nib.load(file_path)\n",
    "    data = img.get_fdata()\n",
    "    x_mean = np.mean(data)\n",
    "    vari = np.sqrt((np.sum((data-x_mean)**2))/(data.size))\n",
    "    norm = (data - x_mean) / vari\n",
    "    norm_img = nib.Nifti1Image(norm, img.affine)\n",
    "    save_path = os.path.join(dir_path, 'normalized')\n",
    "    if not os.path.exists(save_path):\n",
    "        os.makedirs(save_path)\n",
    "    nib.save(norm_img, os.path.join(save_path, os.path.basename(file_path).replace('.nii.gz', '.nii.gz')))\n"
   ]
  },
  {
   "cell_type": "code",
   "execution_count": null,
   "id": "8c2ca208",
   "metadata": {},
   "outputs": [],
   "source": []
  }
 ],
 "metadata": {
  "kernelspec": {
   "display_name": "Python 3 (ipykernel)",
   "language": "python",
   "name": "python3"
  },
  "language_info": {
   "codemirror_mode": {
    "name": "ipython",
    "version": 3
   },
   "file_extension": ".py",
   "mimetype": "text/x-python",
   "name": "python",
   "nbconvert_exporter": "python",
   "pygments_lexer": "ipython3",
   "version": "3.10.9"
  }
 },
 "nbformat": 4,
 "nbformat_minor": 5
}
